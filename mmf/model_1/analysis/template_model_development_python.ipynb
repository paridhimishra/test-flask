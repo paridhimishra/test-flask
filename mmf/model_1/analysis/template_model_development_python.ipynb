{
 "cells": [
  {
   "cell_type": "markdown",
   "metadata": {},
   "source": [
    "Use this template for exploratory model development. Modify cells below to suit your needs, but follow \"input\" and \"output\" object naming conventions where indicated"
   ]
  },
  {
   "cell_type": "markdown",
   "metadata": {
    "collapsed": true
   },
   "source": [
    "# Project title\n",
    "* Author: `<your name here>`"
   ]
  },
  {
   "cell_type": "markdown",
   "metadata": {
    "toc": true
   },
   "source": [
    "<h1>Table of Contents<span class=\"tocSkip\"></span></h1>\n",
    "<div class=\"toc\"><ul class=\"toc-item\"><li><span><a href=\"#Setup\" data-toc-modified-id=\"Setup-1\"><span class=\"toc-item-num\">1&nbsp;&nbsp;</span>Setup</a></span></li><li><span><a href=\"#Local-functions\" data-toc-modified-id=\"Local-functions-2\"><span class=\"toc-item-num\">2&nbsp;&nbsp;</span>Local functions</a></span></li><li><span><a href=\"#Load-Data\" data-toc-modified-id=\"Load-Data-3\"><span class=\"toc-item-num\">3&nbsp;&nbsp;</span>Load Data</a></span><ul class=\"toc-item\"><li><span><a href=\"#Import-raw-data\" data-toc-modified-id=\"Import-raw-data-3.1\"><span class=\"toc-item-num\">3.1&nbsp;&nbsp;</span>Import raw data</a></span></li><li><span><a href=\"#Combine-to-create-a-single-raw-data-frame\" data-toc-modified-id=\"Combine-to-create-a-single-raw-data-frame-3.2\"><span class=\"toc-item-num\">3.2&nbsp;&nbsp;</span>Combine to create a single raw data frame</a></span></li></ul></li><li><span><a href=\"#Process-data\" data-toc-modified-id=\"Process-data-4\"><span class=\"toc-item-num\">4&nbsp;&nbsp;</span>Process data</a></span><ul class=\"toc-item\"><li><span><a href=\"#Apply-pre-processing\" data-toc-modified-id=\"Apply-pre-processing-4.1\"><span class=\"toc-item-num\">4.1&nbsp;&nbsp;</span>Apply pre-processing</a></span></li></ul></li><li><span><a href=\"#Feature-Engineering\" data-toc-modified-id=\"Feature-Engineering-5\"><span class=\"toc-item-num\">5&nbsp;&nbsp;</span>Feature Engineering</a></span><ul class=\"toc-item\"><li><span><a href=\"#Split-data-into-train-and-test-set\" data-toc-modified-id=\"Split-data-into-train-and-test-set-5.1\"><span class=\"toc-item-num\">5.1&nbsp;&nbsp;</span>Split data into train and test set</a></span></li><li><span><a href=\"#Create-features\" data-toc-modified-id=\"Create-features-5.2\"><span class=\"toc-item-num\">5.2&nbsp;&nbsp;</span>Create features</a></span></li><li><span><a href=\"#Combine-features-into-Train-and-Test-sets.-Create-outcome-label-Train-and-Test-sets\" data-toc-modified-id=\"Combine-features-into-Train-and-Test-sets.-Create-outcome-label-Train-and-Test-sets-5.3\"><span class=\"toc-item-num\">5.3&nbsp;&nbsp;</span>Combine features into Train and Test sets. Create outcome label Train and Test sets</a></span></li></ul></li><li><span><a href=\"#Model-Development\" data-toc-modified-id=\"Model-Development-6\"><span class=\"toc-item-num\">6&nbsp;&nbsp;</span>Model Development</a></span><ul class=\"toc-item\"><li><span><a href=\"#Train-the-model\" data-toc-modified-id=\"Train-the-model-6.1\"><span class=\"toc-item-num\">6.1&nbsp;&nbsp;</span>Train the model</a></span></li><li><span><a href=\"#OPTIONAL:-Load-previously-saved-model-artefact-dictionary-from-pickle-file\" data-toc-modified-id=\"OPTIONAL:-Load-previously-saved-model-artefact-dictionary-from-pickle-file-6.2\"><span class=\"toc-item-num\">6.2&nbsp;&nbsp;</span><em>OPTIONAL:</em> Load previously saved model artefact dictionary from pickle file</a></span></li><li><span><a href=\"#Evaluate-model-performance\" data-toc-modified-id=\"Evaluate-model-performance-6.3\"><span class=\"toc-item-num\">6.3&nbsp;&nbsp;</span>Evaluate model performance</a></span></li><li><span><a href=\"#Interpret-model-predictions\" data-toc-modified-id=\"Interpret-model-predictions-6.4\"><span class=\"toc-item-num\">6.4&nbsp;&nbsp;</span>Interpret model predictions</a></span></li><li><span><a href=\"#Save-model-artefacts\" data-toc-modified-id=\"Save-model-artefacts-6.5\"><span class=\"toc-item-num\">6.5&nbsp;&nbsp;</span>Save model artefacts</a></span></li><li><span><a href=\"#Optional:-Persist-model-data-sets-in-S3/Redshift\" data-toc-modified-id=\"Optional:-Persist-model-data-sets-in-S3/Redshift-6.6\"><span class=\"toc-item-num\">6.6&nbsp;&nbsp;</span><em>Optional:</em> Persist model data sets in S3/Redshift</a></span></li></ul></li><li><span><a href=\"#Appendix-1---Environment-Configuration\" data-toc-modified-id=\"Appendix-1---Environment-Configuration-7\"><span class=\"toc-item-num\">7&nbsp;&nbsp;</span>Appendix 1 - Environment Configuration</a></span></li><li><span><a href=\"#Appendix-2---Automated-Tests\" data-toc-modified-id=\"Appendix-2---Automated-Tests-8\"><span class=\"toc-item-num\">8&nbsp;&nbsp;</span>Appendix 2 - Automated Tests</a></span></li></ul></div>"
   ]
  },
  {
   "cell_type": "markdown",
   "metadata": {},
   "source": [
    "## Setup\n",
    "* Import standard and project specific packages\n",
    "* Specify global settings and configuration"
   ]
  },
  {
   "cell_type": "code",
   "execution_count": 14,
   "metadata": {},
   "outputs": [
    {
     "name": "stdout",
     "output_type": "stream",
     "text": [
      "The autoreload extension is already loaded. To reload it, use:\n",
      "  %reload_ext autoreload\n"
     ]
    }
   ],
   "source": [
    "# Standard python packages\n",
    "import pandas as pd\n",
    "import numpy as np\n",
    "import os\n",
    "import sys\n",
    "from sklearn import model_selection\n",
    "from helpers import aws_helpers as aws\n",
    "\n",
    "# Project Packages\n",
    "# import nabds\n",
    "\n",
    "# Setup global settings \n",
    "%load_ext autoreload\n",
    "%autoreload 2"
   ]
  },
  {
   "cell_type": "markdown",
   "metadata": {},
   "source": [
    "## Local functions\n",
    "* Functions for re-use should be incorporated into project package source code or common functions in src folder"
   ]
  },
  {
   "cell_type": "code",
   "execution_count": null,
   "metadata": {
    "collapsed": true
   },
   "outputs": [],
   "source": []
  },
  {
   "cell_type": "markdown",
   "metadata": {},
   "source": [
    "## Load Data \n",
    "* For each data source, load data and apply scope\n",
    "* See templates [\"load_data_from_redshift.ipynb\"](../../NDC_data_science/notebooks/template_load_data_from_redshift.ipynb), [\"load_data_from_s3.ipynb\"](../../NDC_data_science/notebooks/template_load_data_from_s3.ipynb) for loading data on NAB Discovery Cloud\n",
    "* Where applicable, apply high level filters, e.g. selected columns, rows \n",
    "* **Input:** source data\n",
    "* **Output:** *raw_all*: data frame with raw data attributes and outcome values"
   ]
  },
  {
   "cell_type": "code",
   "execution_count": 38,
   "metadata": {
    "scrolled": true
   },
   "outputs": [],
   "source": [
    "# Import raw data\n",
    "\n",
    "# Retain required columns \n",
    "# COLUMN_NAMES = ['A','B']\n",
    "\n",
    "# Drop rows with NaN in all columns\n",
    "\n",
    "\n",
    "# Combine raw data into a data frame\n",
    "raw_all = pd.DataFrame({'A': range(10,15),'B': np.random.randn(5), 'outcome': [0,1,0,0,0]})"
   ]
  },
  {
   "cell_type": "markdown",
   "metadata": {},
   "source": [
    "## Process data\n",
    "* Pre-process and cleanse the raw data frame, e.g. impute/discard missing values, text pre-processing (stop words, lemmatisation etc)\n",
    "* **Input:** labelled data frame *raw_all* \n",
    "* **Output:** *processed*: data frame with pre-processed data attributes and outcome label"
   ]
  },
  {
   "cell_type": "code",
   "execution_count": 39,
   "metadata": {},
   "outputs": [],
   "source": [
    "processed = raw_all.copy()\n",
    "\n",
    "# Apply pre-processing\n"
   ]
  },
  {
   "cell_type": "markdown",
   "metadata": {},
   "source": [
    "## Feature Engineering\n",
    "* Split pre-processed data frame into Train and Test sets\n",
    "* create features e.g. one-hot encoding of categorical variables, binning numeric variables, text features via tokenisation and term frequency matricies. \n",
    "* **Input:** *processed*: Pre-processed data frame\n",
    "* **Output:** Train and Test sets, each split into label and feature sets, i.e. 2 feature data frames, 2 outcome series:\n",
    "    * *X_train*\n",
    "    * *y_train*\n",
    "    * *X_test*\n",
    "    * *y_test*"
   ]
  },
  {
   "cell_type": "code",
   "execution_count": 40,
   "metadata": {},
   "outputs": [],
   "source": [
    "# Split data into train and test set and create outcome sets\n",
    "X_train, X_test, y_train, y_test = (\n",
    "    model_selection.train_test_split(processed,\n",
    "                                     processed.outcome,\n",
    "                                     test_size=0.33, \n",
    "                                     random_state=42))\n",
    "\n",
    "# Create features\n"
   ]
  },
  {
   "cell_type": "markdown",
   "metadata": {},
   "source": [
    "## Model Development\n",
    "* Train a model/s on the Train data set\n",
    "* Evaluate model performance on both the Train and Test sets\n",
    "* Interpret model predictions (optional)\n",
    "* Save model artefacts in a dictionary as a pickle file, and optionally data sets in Redshift\n",
    "* **Input:** 4 arrays with features and labels for Train and Tests sets: *X_train, X_test, y_train, y_test*\n",
    "* **Output:** \n",
    "    * a dictionary *model_output* with model artefacts (e.g. trained model object, Train and Test sets, predictions)\n",
    "    * a pickle file *<`model_name`>_model_output_<`timestamp`>.pickle* containing the dictionary\n",
    "    * file/s in S3 or table/s Redshift with model data sets (optional)"
   ]
  },
  {
   "cell_type": "markdown",
   "metadata": {},
   "source": [
    "### Train the model"
   ]
  },
  {
   "cell_type": "code",
   "execution_count": 48,
   "metadata": {},
   "outputs": [],
   "source": [
    "# Build a classifier/regressor\n",
    "\n",
    "\n",
    "# Train the classifier/regressor\n"
   ]
  },
  {
   "cell_type": "markdown",
   "metadata": {},
   "source": [
    "### Evaluate model performance"
   ]
  },
  {
   "cell_type": "code",
   "execution_count": 12,
   "metadata": {
    "collapsed": true
   },
   "outputs": [],
   "source": []
  },
  {
   "cell_type": "markdown",
   "metadata": {},
   "source": [
    "### Interpret model predictions\n",
    "* e.g. Feature weights/importance"
   ]
  },
  {
   "cell_type": "code",
   "execution_count": 13,
   "metadata": {
    "collapsed": true
   },
   "outputs": [],
   "source": []
  },
  {
   "cell_type": "markdown",
   "metadata": {},
   "source": [
    "### Store / Load the model objects"
   ]
  },
  {
   "cell_type": "code",
   "execution_count": 51,
   "metadata": {},
   "outputs": [],
   "source": [
    "# Persist the model artefacts in a dictionary as a pickle file in s3\n",
    "model_output = {}\n",
    "\n",
    "# Connect to s3, serialise as a pickle file, store in s3\n",
    "\n",
    "\n",
    "# Persist model train and test data frames in Redshift or S3\n",
    "\n"
   ]
  },
  {
   "cell_type": "markdown",
   "metadata": {},
   "source": [
    "## Appendix 1 - Environment Configuration"
   ]
  },
  {
   "cell_type": "code",
   "execution_count": 15,
   "metadata": {
    "scrolled": true
   },
   "outputs": [
    {
     "name": "stdout",
     "output_type": "stream",
     "text": [
      "c:\\Temp\\NDC_data_science\\notebooks\n",
      "3.6.3 |Anaconda custom (64-bit)| (default, Oct 15 2017, 03:27:45) [MSC v.1900 64 bit (AMD64)]\n",
      "C:\\Program Files (x86)\\Python\\Anaconda\\envs\\p3\\python.exe\n",
      "['c:\\\\Temp\\\\NDC_data_science\\\\src', '', 'C:\\\\Program Files (x86)\\\\Python\\\\Anaconda\\\\envs\\\\p3\\\\python36.zip', 'C:\\\\Program Files (x86)\\\\Python\\\\Anaconda\\\\envs\\\\p3\\\\DLLs', 'C:\\\\Program Files (x86)\\\\Python\\\\Anaconda\\\\envs\\\\p3\\\\lib', 'C:\\\\Program Files (x86)\\\\Python\\\\Anaconda\\\\envs\\\\p3', 'C:\\\\Program Files (x86)\\\\Python\\\\Anaconda\\\\envs\\\\p3\\\\lib\\\\site-packages', 'C:\\\\Program Files (x86)\\\\Python\\\\Anaconda\\\\envs\\\\p3\\\\lib\\\\site-packages\\\\Babel-2.5.0-py3.6.egg', 'C:\\\\Program Files (x86)\\\\Python\\\\Anaconda\\\\envs\\\\p3\\\\lib\\\\site-packages\\\\win32', 'C:\\\\Program Files (x86)\\\\Python\\\\Anaconda\\\\envs\\\\p3\\\\lib\\\\site-packages\\\\win32\\\\lib', 'C:\\\\Program Files (x86)\\\\Python\\\\Anaconda\\\\envs\\\\p3\\\\lib\\\\site-packages\\\\Pythonwin', 'C:\\\\Program Files (x86)\\\\Python\\\\Anaconda\\\\envs\\\\p3\\\\lib\\\\site-packages\\\\IPython\\\\extensions', 'C:\\\\Users\\\\p765713\\\\.ipython']\n"
     ]
    }
   ],
   "source": [
    "# System configuration\n",
    "print (os.getcwd())\n",
    "print (sys.version)\n",
    "print (sys.executable)\n",
    "print (sys.path)"
   ]
  },
  {
   "cell_type": "code",
   "execution_count": 16,
   "metadata": {},
   "outputs": [
    {
     "name": "stdout",
     "output_type": "stream",
     "text": [
      "absl-py==0.6.1\n",
      "alabaster==0.7.10\n",
      "anaconda-client==1.6.5\n",
      "anaconda-navigator==1.6.9\n",
      "anaconda-project==0.8.0\n",
      "arrow==0.13.0\n",
      "asn1crypto==0.22.0\n",
      "astor==0.7.1\n",
      "astroid==1.5.3\n",
      "astropy==2.0.2\n",
      "atomicwrites==1.2.1\n",
      "attrs==18.2.0\n",
      "autocorrect==0.3.0\n",
      "autopep8==1.3.4\n",
      "babel==2.5.0\n",
      "backports.shutil-get-terminal-size==1.0.0\n",
      "beautifulsoup4==4.6.0\n",
      "binaryornot==0.4.4\n",
      "bitarray==0.8.1\n",
      "bkcharts==0.2\n",
      "blaze==0.11.3\n",
      "bleach==2.0.0\n",
      "bokeh==0.12.10\n",
      "boto==2.48.0\n",
      "boto3==1.6.4\n",
      "botocore==1.9.4\n",
      "Bottleneck==1.2.1\n",
      "CacheControl==0.12.3\n",
      "cachetools==2.0.1\n",
      "cchardet==2.1.1\n",
      "certifi==2018.1.18\n",
      "cffi==1.10.0\n",
      "chardet==3.0.4\n",
      "click==6.7\n",
      "cloudpickle==0.4.0\n",
      "clyent==1.2.2\n",
      "colorama==0.4.1\n",
      "comtypes==1.1.2\n",
      "contextlib2==0.5.5\n",
      "cookiecutter==1.6.0\n",
      "cryptography==2.0.3\n",
      "cx-Oracle==6.1\n",
      "cycler==0.10.0\n",
      "cymem==1.31.2\n",
      "Cython==0.26.1\n",
      "cytoolz==0.8.2\n",
      "dash==0.18.3\n",
      "dash-core-components==0.12.6\n",
      "dash-html-components==0.7.0\n",
      "dash-renderer==0.10.0\n",
      "dask==0.17.1\n",
      "datashape==0.5.4\n",
      "decorator==4.3.2\n",
      "defusedxml==0.5.0\n",
      "dill==0.2.7.1\n",
      "distlib==0.2.5\n",
      "distributed==1.19.1\n",
      "docopt==0.6.2\n",
      "docutils==0.14\n",
      "en-core-web-md==2.0.0\n",
      "entrypoints==0.2.3\n",
      "et-xmlfile==1.0.1\n",
      "fastcache==1.0.2\n",
      "featuretools==0.1.18\n",
      "filelock==2.0.12\n",
      "Flask==0.12.2\n",
      "Flask-Compress==1.4.0\n",
      "Flask-Cors==3.0.3\n",
      "Flask-SeaSurf==0.2.2\n",
      "ftfy==4.4.3\n",
      "funcy==1.10\n",
      "future==0.16.0\n",
      "gast==0.2.1.post0\n",
      "gevent==1.2.2\n",
      "glob2==0.5\n",
      "google-api-core==0.1.3\n",
      "google-auth==1.2.1\n",
      "google-auth-oauthlib==0.2.0\n",
      "google-cloud-bigquery==0.29.0\n",
      "google-cloud-core==0.28.0\n",
      "google-resumable-media==0.3.1\n",
      "googleapis-common-protos==1.5.3\n",
      "grab==0.6.38\n",
      "greenlet==0.4.12\n",
      "grpcio==1.17.1\n",
      "h5py==2.7.0\n",
      "heapdict==1.0.0\n",
      "html2text==2018.1.9\n",
      "html5lib==0.999999999\n",
      "idna==2.6\n",
      "imageio==2.2.0\n",
      "imagesize==0.7.1\n",
      "ipykernel==4.6.1\n",
      "ipython==6.1.0\n",
      "ipython-genutils==0.2.0\n",
      "ipywidgets==7.0.0\n",
      "isort==4.2.15\n",
      "itsdangerous==0.24\n",
      "jdcal==1.3\n",
      "jedi==0.10.2\n",
      "Jinja2==2.9.6\n",
      "jinja2-time==0.2.0\n",
      "jmespath==0.9.3\n",
      "joblib==0.11\n",
      "jsonschema==2.6.0\n",
      "jupyter-client==5.1.0\n",
      "jupyter-console==5.2.0\n",
      "jupyter-contrib-core==0.3.3\n",
      "jupyter-contrib-nbextensions==0.4.0\n",
      "jupyter-core==4.4.0\n",
      "jupyter-highlight-selected-word==0.1.0\n",
      "jupyter-latex-envs==1.4.1\n",
      "jupyter-nbextensions-configurator==0.4.0\n",
      "jupyterlab==0.27.0\n",
      "jupyterlab-launcher==0.4.0\n",
      "jupyterthemes==0.18.5\n",
      "Keras==2.2.4\n",
      "Keras-Applications==1.0.6\n",
      "Keras-Preprocessing==1.0.5\n",
      "lazy-object-proxy==1.3.1\n",
      "lesscpy==0.13.0\n",
      "lightgbm==2.2.2\n",
      "llvmlite==0.20.0\n",
      "locket==0.2.0\n",
      "lockfile==0.12.2\n",
      "lxml==4.1.0\n",
      "Markdown==3.0.1\n",
      "MarkupSafe==1.0\n",
      "matplotlib==2.1.0\n",
      "mccabe==0.6.1\n",
      "menuinst==1.4.10\n",
      "missingno==0.4.0\n",
      "mistune==0.7.4\n",
      "more-itertools==5.0.0\n",
      "mpld3==0.3\n",
      "mpmath==0.19\n",
      "msgpack-numpy==0.4.1\n",
      "msgpack-python==0.4.8\n",
      "multipledispatch==0.4.9\n",
      "murmurhash==0.28.0\n",
      "nabds==0.11\n",
      "navigator-updater==0.1.0\n",
      "nbconvert==5.3.1\n",
      "nbformat==4.4.0\n",
      "networkx==2.0\n",
      "nltk==3.2.4\n",
      "nose==1.3.7\n",
      "notebook==5.0.0\n",
      "numba==0.35.0+10.g143f70e\n",
      "numexpr==2.6.2\n",
      "numpy==1.13.3\n",
      "numpydoc==0.7.0\n",
      "oauthlib==2.0.6\n",
      "odo==0.5.1\n",
      "olefile==0.44\n",
      "openpyxl==2.4.8\n",
      "packaging==16.8\n",
      "pandas==0.22.0\n",
      "pandas-gbq==0.3.0\n",
      "pandocfilters==1.4.2\n",
      "partd==0.3.8\n",
      "path.py==10.3.1\n",
      "pathlib==1.0.1\n",
      "pathlib2==2.3.0\n",
      "patsy==0.4.1\n",
      "pep8==1.7.0\n",
      "pickleshare==0.7.4\n",
      "Pillow==4.2.1\n",
      "pipreqs==0.4.9\n",
      "pkginfo==1.4.1\n",
      "plac==0.9.6\n",
      "plotly==2.2.3\n",
      "pluggy==0.8.1\n",
      "ply==3.10\n",
      "poyo==0.4.2\n",
      "preshed==1.0.0\n",
      "progress==1.3\n",
      "prompt-toolkit==1.0.15\n",
      "protobuf==3.6.1\n",
      "psutil==5.4.0\n",
      "psycopg2==2.7.6.1\n",
      "py==1.7.0\n",
      "pyasn1==0.4.2\n",
      "pyasn1-modules==0.2.1\n",
      "pycodestyle==2.3.1\n",
      "pycosat==0.6.2\n",
      "pycparser==2.18\n",
      "pycrypto==2.6.1\n",
      "pycurl==7.43.0\n",
      "pydot==1.2.3\n",
      "pyflakes==1.6.0\n",
      "Pygments==2.2.0\n",
      "pyLDAvis==2.1.1\n",
      "pylint==1.7.4\n",
      "Pympler==0.5\n",
      "pyodbc==4.0.17\n",
      "pyOpenSSL==17.2.0\n",
      "pyparsing==2.2.0\n",
      "pyreadline==2.1\n",
      "PySocks==1.6.7\n",
      "pytest==4.1.1\n",
      "python-dateutil==2.6.1\n",
      "python-dotenv==0.7.1\n",
      "pytils==0.3\n",
      "pytz==2017.3\n",
      "PyWavelets==0.5.2\n",
      "pywin32==221\n",
      "PyYAML==3.12\n",
      "pyzmq==16.0.2\n",
      "QtAwesome==0.4.4\n",
      "qtconsole==4.3.1\n",
      "QtPy==1.3.1\n",
      "regex==2017.4.5\n",
      "requests==2.18.4\n",
      "requests-oauthlib==0.8.0\n",
      "rise==5.2.0\n",
      "rope==0.10.5\n",
      "rsa==3.4.2\n",
      "ruamel-yaml==0.11.14\n",
      "s3fs==0.1.3\n",
      "s3transfer==0.1.13\n",
      "sarge==0.1.4\n",
      "scikit-image==0.13.0\n",
      "scikit-learn==0.19.1\n",
      "scipy==1.0.0\n",
      "seaborn==0.8\n",
      "selection==0.0.13\n",
      "simplegeneric==0.8.1\n",
      "singledispatch==3.4.0.3\n",
      "six==1.12.0\n",
      "snowballstemmer==1.2.1\n",
      "sortedcollections==0.5.3\n",
      "sortedcontainers==1.5.7\n",
      "spacy==2.0.5\n",
      "Sphinx==1.6.3\n",
      "sphinxcontrib-websupport==1.0.1\n",
      "spyder==3.2.4\n",
      "SQLAlchemy==1.1.13\n",
      "statsmodels==0.8.0\n",
      "sympy==1.1.1\n",
      "tables==3.4.2\n",
      "tblib==1.3.2\n",
      "tensorboard==1.12.2\n",
      "tensorflow==1.12.0\n",
      "termcolor==1.1.0\n",
      "termite==0.0.1\n",
      "testpath==0.3.1\n",
      "textblob==0.15.1\n",
      "thinc==6.10.1\n",
      "toolz==0.8.2\n",
      "torch==0.4.1\n",
      "torchvision==0.2.1\n",
      "tornado==4.5.2\n",
      "tqdm==4.19.4\n",
      "traitlets==4.3.2\n",
      "typing==3.6.2\n",
      "ujson==1.35\n",
      "unicodecsv==0.14.1\n",
      "urllib3==1.22\n",
      "user-agent==0.1.9\n",
      "vaderSentiment==3.2.1\n",
      "wcwidth==0.1.7\n",
      "webencodings==0.5.1\n",
      "weblib==0.1.25\n",
      "Werkzeug==0.12.2\n",
      "whichcraft==0.5.2\n",
      "widgetsnbextension==3.0.2\n",
      "win-inet-pton==1.0.1\n",
      "win-unicode-console==0.5\n",
      "wincertstore==0.2\n",
      "wordcloud==1.5.0\n",
      "wrapt==1.10.11\n",
      "xlrd==1.1.0\n",
      "XlsxWriter==1.0.2\n",
      "xlwings==0.11.4\n",
      "xlwt==1.3.0\n",
      "yarg==0.1.9\n",
      "zict==0.1.3\n"
     ]
    },
    {
     "name": "stderr",
     "output_type": "stream",
     "text": [
      "You are using pip version 9.0.1, however version 18.1 is available.\n",
      "You should consider upgrading via the 'python -m pip install --upgrade pip' command.\n"
     ]
    }
   ],
   "source": [
    "# Python packages and versions\n",
    "!pip freeze"
   ]
  },
  {
   "cell_type": "markdown",
   "metadata": {},
   "source": [
    "## Appendix 2 - Automated Tests"
   ]
  },
  {
   "cell_type": "code",
   "execution_count": 17,
   "metadata": {},
   "outputs": [
    {
     "name": "stdout",
     "output_type": "stream",
     "text": [
      "============================= test session starts =============================\n",
      "platform win32 -- Python 3.6.3, pytest-4.1.1, py-1.7.0, pluggy-0.8.1\n",
      "rootdir: c:\\Temp\\NDC_data_science, inifile:\n",
      "collected 5 items\n",
      "\n",
      "tests\\examplepackage\\examplemodule\\test_add_value_to_numpy.py ...        [ 60%]\n",
      "tests\\examplepackage\\examplemodule\\test_hello_world.py ..                [100%]\n",
      "\n",
      "============================== warnings summary ===============================\n",
      "c:\\program files (x86)\\python\\anaconda\\envs\\p3\\lib\\site-packages\\urllib3\\contrib\\pyopenssl.py:46\n",
      "  c:\\program files (x86)\\python\\anaconda\\envs\\p3\\lib\\site-packages\\urllib3\\contrib\\pyopenssl.py:46: DeprecationWarning: OpenSSL.rand is deprecated - you should use os.urandom instead\n",
      "    import OpenSSL.SSL\n",
      "\n",
      "-- Docs: https://docs.pytest.org/en/latest/warnings.html\n",
      "==================== 5 passed, 1 warnings in 0.49 seconds =====================\n"
     ]
    }
   ],
   "source": [
    "# Run tests within notebook\n",
    "f_path = os.getcwd()\n",
    "os.chdir(os.path.abspath(os.path.join(os.getcwd(), os.pardir)))\n",
    "\n",
    "# Run pytest from the repository root\n",
    "!pytest\n",
    "\n",
    "os.chdir(f_path)"
   ]
  },
  {
   "cell_type": "markdown",
   "metadata": {},
   "source": [
    "# End"
   ]
  }
 ],
 "metadata": {
  "anaconda-cloud": {},
  "kernelspec": {
   "display_name": "Python 3",
   "language": "python",
   "name": "python3"
  },
  "language_info": {
   "codemirror_mode": {
    "name": "ipython",
    "version": 3
   },
   "file_extension": ".py",
   "mimetype": "text/x-python",
   "name": "python",
   "nbconvert_exporter": "python",
   "pygments_lexer": "ipython3",
   "version": "3.7.0"
  },
  "toc": {
   "nav_menu": {},
   "number_sections": true,
   "sideBar": true,
   "skip_h1_title": true,
   "title_cell": "Table of Contents",
   "title_sidebar": "Contents",
   "toc_cell": true,
   "toc_position": {
    "height": "580px",
    "left": "400px",
    "top": "110.8px",
    "width": "373.4px"
   },
   "toc_section_display": true,
   "toc_window_display": false
  }
 },
 "nbformat": 4,
 "nbformat_minor": 2
}
